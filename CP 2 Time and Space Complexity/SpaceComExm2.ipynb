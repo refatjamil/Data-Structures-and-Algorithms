{
 "cells": [
  {
   "cell_type": "code",
   "execution_count": 4,
   "id": "d962df4e",
   "metadata": {},
   "outputs": [],
   "source": [
    "n = 100\n"
   ]
  },
  {
   "cell_type": "code",
   "execution_count": 5,
   "id": "a5d37ce6",
   "metadata": {},
   "outputs": [],
   "source": [
    "even = [False] * (n+1)"
   ]
  },
  {
   "cell_type": "code",
   "execution_count": 6,
   "id": "797c61bd",
   "metadata": {},
   "outputs": [],
   "source": [
    "for i in range(0, n+1, 2):\n",
    "    even[i] = True\n",
    "    "
   ]
  },
  {
   "cell_type": "code",
   "execution_count": 7,
   "id": "258b23f1",
   "metadata": {},
   "outputs": [
    {
     "data": {
      "text/plain": [
       "False"
      ]
     },
     "execution_count": 7,
     "metadata": {},
     "output_type": "execute_result"
    }
   ],
   "source": [
    "even[5]"
   ]
  },
  {
   "cell_type": "code",
   "execution_count": 8,
   "id": "9991bdff",
   "metadata": {},
   "outputs": [
    {
     "data": {
      "text/plain": [
       "False"
      ]
     },
     "execution_count": 8,
     "metadata": {},
     "output_type": "execute_result"
    }
   ],
   "source": [
    "even[99]"
   ]
  },
  {
   "cell_type": "code",
   "execution_count": 9,
   "id": "0b15e455",
   "metadata": {},
   "outputs": [
    {
     "data": {
      "text/plain": [
       "True"
      ]
     },
     "execution_count": 9,
     "metadata": {},
     "output_type": "execute_result"
    }
   ],
   "source": [
    "even[10]"
   ]
  },
  {
   "cell_type": "code",
   "execution_count": null,
   "id": "4d9fced3",
   "metadata": {},
   "outputs": [],
   "source": []
  }
 ],
 "metadata": {
  "kernelspec": {
   "display_name": "base",
   "language": "python",
   "name": "python3"
  },
  "language_info": {
   "codemirror_mode": {
    "name": "ipython",
    "version": 3
   },
   "file_extension": ".py",
   "mimetype": "text/x-python",
   "name": "python",
   "nbconvert_exporter": "python",
   "pygments_lexer": "ipython3",
   "version": "3.9.13"
  },
  "vscode": {
   "interpreter": {
    "hash": "b58e8d2897631be50599cb2475829bc7f4f92a7dfee912534f9645fab183932d"
   }
  }
 },
 "nbformat": 4,
 "nbformat_minor": 5
}
