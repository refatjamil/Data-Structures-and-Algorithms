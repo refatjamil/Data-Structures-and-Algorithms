{
 "cells": [
  {
   "cell_type": "markdown",
   "id": "d962df4e",
   "metadata": {},
   "source": [
    "## Time Complexity"
   ]
  },
  {
   "cell_type": "markdown",
   "id": "4786ecd0",
   "metadata": {},
   "source": [
    "### Big O(1) Constant Time Complaxity"
   ]
  },
  {
   "cell_type": "code",
   "execution_count": 13,
   "id": "e37bd471",
   "metadata": {},
   "outputs": [
    {
     "name": "stdout",
     "output_type": "stream",
     "text": [
      "a = 15  b = 12\n",
      "sum =  27\n"
     ]
    }
   ],
   "source": [
    "a = 12      # ----> 1\n",
    "b = 15      # ----> 1\n",
    "\n",
    "temp = a    # ----> 1\n",
    "a = b       # ----> 1\n",
    "b = temp    # ----> 1\n",
    "\n",
    "sum = a + b # ----> 1\n",
    "#----------------------------\n",
    "#                   5  =  O(5) or O(1)\n",
    "print('a =',a, '' ,'b =',b)\n",
    "print('sum = ', sum)"
   ]
  },
  {
   "cell_type": "markdown",
   "id": "3fc16f13",
   "metadata": {},
   "source": [
    "### Big O(n) N Time Complaxity"
   ]
  },
  {
   "cell_type": "code",
   "execution_count": 14,
   "id": "fbe7a357",
   "metadata": {},
   "outputs": [
    {
     "name": "stdout",
     "output_type": "stream",
     "text": [
      "0\n",
      "1\n",
      "2\n",
      "3\n",
      "4\n",
      "-------\n",
      "10\n"
     ]
    }
   ],
   "source": [
    "s = 0 # 1\n",
    "n = 5 # 1\n",
    "for i in range(n): # n\n",
    "    print(i) # n\n",
    "    s = s + i # n\n",
    "# --------------------\n",
    "# 1 + 1 + n + n + n  = 2 + 3n   \n",
    "# 2 + 3n => 3n => n => O(n)\n",
    "print('-------')\n",
    "print(s)"
   ]
  },
  {
   "cell_type": "markdown",
   "id": "1bc3647c",
   "metadata": {},
   "source": [
    "### Big O(n2) Quadratic Time Comlaxity"
   ]
  },
  {
   "cell_type": "code",
   "execution_count": 15,
   "id": "29f1099b",
   "metadata": {},
   "outputs": [
    {
     "name": "stdout",
     "output_type": "stream",
     "text": [
      "1 * 1 = 1\n",
      "1 * 2 = 2\n",
      "1 * 3 = 3\n",
      "1 * 4 = 4\n",
      "1 * 5 = 5\n",
      "1 * 6 = 6\n",
      "1 * 7 = 7\n",
      "1 * 8 = 8\n",
      "1 * 9 = 9\n",
      "1 * 10 = 10\n",
      "\n",
      "2 * 1 = 2\n",
      "2 * 2 = 4\n",
      "2 * 3 = 6\n",
      "2 * 4 = 8\n",
      "2 * 5 = 10\n",
      "2 * 6 = 12\n",
      "2 * 7 = 14\n",
      "2 * 8 = 16\n",
      "2 * 9 = 18\n",
      "2 * 10 = 20\n",
      "\n"
     ]
    }
   ],
   "source": [
    " \n",
    "n= 2\n",
    "for i in range(1, n+1):  # n + 1 or n\n",
    " \n",
    "    for j in range(1, 11): # n * (n+1) \n",
    " \n",
    "        print(i, \"*\", j, \"=\", i*j) # n*n\n",
    "    print()\n",
    "    # (n + n * (n+1) + (n*n)) = 2n^2 + 2n + 1 => 2n^2 => n^2 => O(n^2) "
   ]
  },
  {
   "cell_type": "code",
   "execution_count": null,
   "id": "1bf95fa1",
   "metadata": {},
   "outputs": [],
   "source": []
  }
 ],
 "metadata": {
  "kernelspec": {
   "display_name": "Python 3 (ipykernel)",
   "language": "python",
   "name": "python3"
  },
  "language_info": {
   "codemirror_mode": {
    "name": "ipython",
    "version": 3
   },
   "file_extension": ".py",
   "mimetype": "text/x-python",
   "name": "python",
   "nbconvert_exporter": "python",
   "pygments_lexer": "ipython3",
   "version": "3.11.5"
  },
  "vscode": {
   "interpreter": {
    "hash": "916dbcbb3f70747c44a77c7bcd40155683ae19c65e1c03b4aa3499c5328201f1"
   }
  }
 },
 "nbformat": 4,
 "nbformat_minor": 5
}
