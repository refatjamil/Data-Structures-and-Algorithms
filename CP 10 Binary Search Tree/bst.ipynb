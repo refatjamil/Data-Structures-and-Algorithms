{
 "cells": [
  {
   "cell_type": "code",
   "execution_count": 12,
   "metadata": {},
   "outputs": [],
   "source": [
    "class Node:\n",
    "    \n",
    "    def __init__(self, data):\n",
    "        self.data = data\n",
    "        self.parent = None\n",
    "        self.left = None\n",
    "        self.right = None\n",
    "\n",
    "    def __repr__(self):\n",
    "        return repr(self.data)\n",
    "    \n",
    "\n",
    "    def add_left(self, node):\n",
    "        self.left = node\n",
    "        if node is not None:\n",
    "            node.parent = self\n",
    "\n",
    "    def add_right(self, node):\n",
    "        self.right = node    \n",
    "        if node is not None:\n",
    "            node.parent = self\n",
    "\n",
    "class BinarySearchTree:\n",
    "    def __init__(self, node=None):\n",
    "        self.root = node\n",
    "    \n",
    "    def insertion(self, data):\n",
    "        \n",
    "        node = Node(data)\n",
    "        last_node = None\n",
    "        current_node = self.root\n",
    "\n",
    "        while current_node is not None:\n",
    "            last_node = current_node\n",
    "\n",
    "            if node.data < current_node.data:\n",
    "                current_node = current_node.left\n",
    "            else:\n",
    "                current_node = current_node.right\n",
    "\n",
    "        if last_node is None:\n",
    "            self.root = node\n",
    "        elif node.data < last_node.data:\n",
    "            last_node.add_left(node)\n",
    "        else:\n",
    "            last_node.add_right(node)\n",
    "            \n",
    "            \n",
    "    def pre_order(self, node = None):\n",
    "        if node == None:\n",
    "            node = self.root \n",
    "        print(node)\n",
    "\n",
    "        if node.left:\n",
    "            self.pre_order(node.left)\n",
    "        if node.right:\n",
    "            self.pre_order(node.right)       \n",
    "\n",
    "\n",
    "    def post_order(self, node):\n",
    "\n",
    "        if node.left:\n",
    "            self.post_order(node.left)\n",
    "            \n",
    "        if node.right:\n",
    "            self.post_order(node.right)\n",
    "\n",
    "        print(node)        \n",
    "\n",
    "\n",
    "    def in_order(self, node):\n",
    "\n",
    "        if node.left:\n",
    "            self.in_order(node.left)\n",
    "\n",
    "        print(node)\n",
    "\n",
    "        if node.right:\n",
    "            self.in_order(node.right)  "
   ]
  },
  {
   "cell_type": "code",
   "execution_count": 13,
   "metadata": {},
   "outputs": [],
   "source": [
    "bst = BinarySearchTree()\n",
    "\n"
   ]
  },
  {
   "cell_type": "code",
   "execution_count": 14,
   "metadata": {},
   "outputs": [
    {
     "name": "stdout",
     "output_type": "stream",
     "text": [
      "None\n"
     ]
    },
    {
     "ename": "AttributeError",
     "evalue": "'NoneType' object has no attribute 'left'",
     "output_type": "error",
     "traceback": [
      "\u001b[0;31m---------------------------------------------------------------------------\u001b[0m",
      "\u001b[0;31mAttributeError\u001b[0m                            Traceback (most recent call last)",
      "Cell \u001b[0;32mIn[14], line 1\u001b[0m\n\u001b[0;32m----> 1\u001b[0m bst\u001b[39m.\u001b[39;49mpre_order()\n",
      "Cell \u001b[0;32mIn[12], line 54\u001b[0m, in \u001b[0;36mBinarySearchTree.pre_order\u001b[0;34m(self, node)\u001b[0m\n\u001b[1;32m     51\u001b[0m     node \u001b[39m=\u001b[39m \u001b[39mself\u001b[39m\u001b[39m.\u001b[39mroot \n\u001b[1;32m     52\u001b[0m \u001b[39mprint\u001b[39m(node)\n\u001b[0;32m---> 54\u001b[0m \u001b[39mif\u001b[39;00m node\u001b[39m.\u001b[39;49mleft:\n\u001b[1;32m     55\u001b[0m     \u001b[39mself\u001b[39m\u001b[39m.\u001b[39mpre_order(node\u001b[39m.\u001b[39mleft)\n\u001b[1;32m     56\u001b[0m \u001b[39mif\u001b[39;00m node\u001b[39m.\u001b[39mright:\n",
      "\u001b[0;31mAttributeError\u001b[0m: 'NoneType' object has no attribute 'left'"
     ]
    }
   ],
   "source": [
    "bst.pre_order()"
   ]
  },
  {
   "cell_type": "code",
   "execution_count": null,
   "metadata": {},
   "outputs": [],
   "source": []
  },
  {
   "cell_type": "code",
   "execution_count": null,
   "metadata": {},
   "outputs": [],
   "source": []
  }
 ],
 "metadata": {
  "kernelspec": {
   "display_name": "Python 3 (ipykernel)",
   "language": "python",
   "name": "python3"
  },
  "language_info": {
   "codemirror_mode": {
    "name": "ipython",
    "version": 3
   },
   "file_extension": ".py",
   "mimetype": "text/x-python",
   "name": "python",
   "nbconvert_exporter": "python",
   "pygments_lexer": "ipython3",
   "version": "3.10.6"
  }
 },
 "nbformat": 4,
 "nbformat_minor": 2
}
