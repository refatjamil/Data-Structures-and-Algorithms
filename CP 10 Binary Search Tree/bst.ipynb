{
 "cells": [
  {
   "cell_type": "code",
   "execution_count": 36,
   "metadata": {},
   "outputs": [],
   "source": [
    "class Node:\n",
    "    \n",
    "    def __init__(self, data):\n",
    "        self.data = data\n",
    "        self.parent = None\n",
    "        self.left = None\n",
    "        self.right = None\n",
    "\n",
    "    def __repr__(self):\n",
    "        return repr(self.data)\n",
    "    \n",
    "\n",
    "    def add_left(self, node):\n",
    "        self.left = node\n",
    "        if node is not None:\n",
    "            node.parent = self\n",
    "\n",
    "    def add_right(self, node):\n",
    "        self.right = node    \n",
    "        if node is not None:\n",
    "            node.parent = self\n",
    "\n",
    "class BinarySearchTree:\n",
    "    def __init__(self, node=None):\n",
    "        self.root = node\n",
    "    \n",
    "    def insertion(self, data):\n",
    "        \n",
    "        node = Node(data)\n",
    "        last_node = None\n",
    "        current_node = self.root\n",
    "\n",
    "        while current_node is not None:\n",
    "            last_node = current_node\n",
    "\n",
    "            if node.data < current_node.data:\n",
    "                current_node = current_node.left\n",
    "            else:\n",
    "                current_node = current_node.right\n",
    "\n",
    "        if last_node is None:\n",
    "            self.root = node\n",
    "        elif node.data < last_node.data:\n",
    "            last_node.add_left(node)\n",
    "        else:\n",
    "            last_node.add_right(node)\n",
    "            \n",
    "            \n",
    "    def pre_order(self, node = None):\n",
    "        if node == None:\n",
    "            node = self.root \n",
    "        print(node)\n",
    "\n",
    "        if node.left:\n",
    "            self.pre_order(node.left)\n",
    "        if node.right:\n",
    "            self.pre_order(node.right)       \n",
    "\n",
    "\n",
    "# def post_order(node):\n",
    "\n",
    "#     if node.left:\n",
    "#         post_order(node.left)\n",
    "        \n",
    "#     if node.right:\n",
    "#         post_order(node.right)\n",
    "\n",
    "#     print(node)        \n",
    "\n",
    "\n",
    "# def in_order(node):\n",
    "\n",
    "#     if node.left:\n",
    "#         post_order(node.left)\n",
    "\n",
    "#     print(node)\n",
    "\n",
    "#     if node.right:\n",
    "#         post_order(node.right)  "
   ]
  },
  {
   "cell_type": "code",
   "execution_count": 37,
   "metadata": {},
   "outputs": [],
   "source": []
  },
  {
   "cell_type": "code",
   "execution_count": 38,
   "metadata": {},
   "outputs": [
    {
     "name": "stdout",
     "output_type": "stream",
     "text": [
      "34\n",
      "12\n",
      "14\n",
      "21\n",
      "44\n"
     ]
    }
   ],
   "source": [
    "bst.pre_order()"
   ]
  },
  {
   "cell_type": "code",
   "execution_count": null,
   "metadata": {},
   "outputs": [],
   "source": []
  },
  {
   "cell_type": "code",
   "execution_count": null,
   "metadata": {},
   "outputs": [],
   "source": []
  }
 ],
 "metadata": {
  "kernelspec": {
   "display_name": "Python 3 (ipykernel)",
   "language": "python",
   "name": "python3"
  },
  "language_info": {
   "codemirror_mode": {
    "name": "ipython",
    "version": 3
   },
   "file_extension": ".py",
   "mimetype": "text/x-python",
   "name": "python",
   "nbconvert_exporter": "python",
   "pygments_lexer": "ipython3",
   "version": "3.10.9"
  }
 },
 "nbformat": 4,
 "nbformat_minor": 2
}
