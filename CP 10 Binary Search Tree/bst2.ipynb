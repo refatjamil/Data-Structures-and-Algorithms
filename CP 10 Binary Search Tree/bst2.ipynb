{
 "cells": [
  {
   "cell_type": "code",
   "execution_count": 128,
   "metadata": {},
   "outputs": [],
   "source": [
    "class Node:\n",
    "    def __init__(self, data):\n",
    "        self.data = data\n",
    "        self.left = None\n",
    "        self.right = None\n",
    "\n",
    "class BinarySearchTree:\n",
    "    def __init__(self):\n",
    "        self.root = None    \n",
    "    \n",
    "    def insertion(self, data):\n",
    "        if self.root is None:\n",
    "            self.root = Node(data)\n",
    "        else:\n",
    "            self.__insertion(data, self.root)\n",
    "    \n",
    "    def __insertion(self, data, root_node):\n",
    "        if data < root_node.data:\n",
    "            if root_node.left is None:\n",
    "                root_node.left = Node(data)\n",
    "            else:\n",
    "                self.__insertion(data, root_node.left)\n",
    "        elif data > root_node.data:\n",
    "            if root_node.right is None:\n",
    "                root_node.right = Node(data)\n",
    "            else:\n",
    "                self.__insertion(data, root_node.right)\n",
    "                \n",
    "    def pre_order(self):\n",
    "        if self.root is None:\n",
    "            print(\"Empty Tree\")\n",
    "            return\n",
    "        \n",
    "        root_node = self.root\n",
    "        print(root_node.data)\n",
    "\n",
    "        if root_node.left:\n",
    "            self.__pre_order(root_node.left)\n",
    "        if root_node.right:\n",
    "            self.__pre_order(root_node.right)\n",
    "\n",
    "    def __pre_order(self, root_node):\n",
    "        print(root_node.data)\n",
    "        if root_node.left:\n",
    "            self.__pre_order(root_node.left)\n",
    "        if root_node.right:\n",
    "            self.__pre_order(root_node.right)\n",
    "    \n",
    "\n",
    "\n",
    "\n"
   ]
  },
  {
   "cell_type": "code",
   "execution_count": 131,
   "metadata": {},
   "outputs": [],
   "source": [
    "bst = BinarySearchTree()\n"
   ]
  },
  {
   "cell_type": "code",
   "execution_count": 132,
   "metadata": {},
   "outputs": [
    {
     "name": "stdout",
     "output_type": "stream",
     "text": [
      "Empty Tree\n"
     ]
    }
   ],
   "source": [
    "\n",
    "# Perform pre-order traversal\n",
    "bst.pre_order()"
   ]
  },
  {
   "cell_type": "code",
   "execution_count": null,
   "metadata": {},
   "outputs": [],
   "source": []
  },
  {
   "cell_type": "code",
   "execution_count": null,
   "metadata": {},
   "outputs": [],
   "source": []
  }
 ],
 "metadata": {
  "kernelspec": {
   "display_name": "Python 3",
   "language": "python",
   "name": "python3"
  },
  "language_info": {
   "codemirror_mode": {
    "name": "ipython",
    "version": 3
   },
   "file_extension": ".py",
   "mimetype": "text/x-python",
   "name": "python",
   "nbconvert_exporter": "python",
   "pygments_lexer": "ipython3",
   "version": "3.10.6"
  },
  "orig_nbformat": 4
 },
 "nbformat": 4,
 "nbformat_minor": 2
}
