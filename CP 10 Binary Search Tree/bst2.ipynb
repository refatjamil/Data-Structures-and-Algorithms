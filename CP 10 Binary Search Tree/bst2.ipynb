{
 "cells": [
  {
   "cell_type": "code",
   "execution_count": 65,
   "metadata": {},
   "outputs": [],
   "source": [
    "class Node:\n",
    "    def __init__(self, data):\n",
    "        self.data = data\n",
    "        self.left = None\n",
    "        self.right = None\n",
    "\n",
    "\n",
    "\n",
    "class BinarySearchTree:\n",
    "    def __init__(self):\n",
    "        self.root = None    \n",
    "    \n",
    "    # Insertion Operation\n",
    "    # Binary Search Tree - Insertion Pseudo \n",
    "    # https://youtu.be/nVJI8sUlwSs\n",
    "\n",
    "    \n",
    "\n",
    "    def insertion(self, data):\n",
    "        if self.root is None:\n",
    "            self.root = Node(data)\n",
    "        else:\n",
    "            self.__insertion(data, self.root)\n",
    "    \n",
    "    def __insertion(self, data, root):\n",
    "        if data < root.data:\n",
    "            if root.left is None:\n",
    "                root.left = Node(data)\n",
    "            else:\n",
    "                self.__insertion(data, root.left)\n",
    "        elif data > root.data:\n",
    "            if root.right is None:\n",
    "                root.right = Node(data)\n",
    "            else:\n",
    "                self.__insertion(data, root.right)\n",
    "                \n",
    "    # Per Order Traversel\n",
    "\n",
    "    def pre_order(self):\n",
    "        if self.root is None:\n",
    "            print(\"Empty Tree\")\n",
    "            return\n",
    "        \n",
    "        root = self.root\n",
    "        print(root.data)\n",
    "\n",
    "        if root.left:\n",
    "            self.__pre_order(root.left)\n",
    "        if root.right:\n",
    "            self.__pre_order(root.right)\n",
    "\n",
    "    def __pre_order(self, root):\n",
    "        print(root.data)\n",
    "        if root.left:\n",
    "            self.__pre_order(root.left)\n",
    "        if root.right:\n",
    "            self.__pre_order(root.right)\n",
    "    \n",
    "    # Search Operation\n",
    "    # Binary Search Tree - Search Pseudo Code\n",
    "    # https://youtu.be/G9wuDXvO0fA\n",
    "\n",
    "    def search(self, value):\n",
    "        root = self.root\n",
    "\n",
    "        if root is None:\n",
    "            print(\"Not Found\")\n",
    "            return None\n",
    "        \n",
    "        if root.data == value:\n",
    "            \n",
    "            return root\n",
    "        \n",
    "        if root.data > value:\n",
    "            return self.__search(value, root.left)\n",
    "        if root.data < value:\n",
    "            return self.__search(value, root.right)\n",
    "        \n",
    "    def __search(self, value, root):\n",
    "        if root is None:\n",
    "            print(\"Not Found\")\n",
    "            return\n",
    "        \n",
    "        if root.data == value:\n",
    "            return root\n",
    "        \n",
    "        if root.data > value:\n",
    "            return self.__search(value, root.left)\n",
    "        if root.data < value:\n",
    "            return self.__search(value, root.right)\n",
    "\n",
    "    def isLeaf(self, node):\n",
    "        if node.left is None and node.right is None:\n",
    "            return True\n",
    "        else:\n",
    "            return False\n",
    "        \n",
    "    def isOneChild(self, node):\n",
    "        if node.left == None and node.right != None:\n",
    "            return True\n",
    "        elif node.left != None and node.right:\n",
    "            return True\n",
    "        else:\n",
    "            return False\n",
    "        \n",
    "        \n",
    "    def getParent(self, x):\n",
    "        root = self.root\n",
    "\n",
    "        if root.left:\n",
    "            if root.left.data == x:\n",
    "                return root\n",
    "            else:\n",
    "                return self.__getParent(root.left, x)\n",
    "\n",
    "        if root.right:\n",
    "            if root.right.data == x:\n",
    "                return root\n",
    "            else:\n",
    "                return self.__getParent(root.right, x)\n",
    "            \n",
    "    def __getParent(self, root, x):\n",
    "        if root.left:\n",
    "            if root.left.data ==  x:\n",
    "                return root\n",
    "            else:\n",
    "                return self.__getParent(root.left, x)\n",
    "        if root.right:\n",
    "            if root.right.data == x:\n",
    "                return root\n",
    "            else:\n",
    "                return self.__getParent(root.right, x)\n",
    "\n",
    "    def delete(self, value):\n",
    "\n",
    "        x = self.search(value)\n",
    "        if x == None:\n",
    "            return None\n",
    "        \n",
    "        ret = x\n",
    "\n",
    "        # Leap Node Deletion\n",
    "        if self.isLeaf(x):\n",
    "            p = self.getParent(x.data)\n",
    "            if p.left:\n",
    "                if p.left.data == x.data:\n",
    "                    p.left = None\n",
    "            if p.right:\n",
    "                if p.right.data == x.data:\n",
    "                    p.right = None\n",
    "            return ret\n",
    "        \n",
    "        # One Child Node Deletion\n",
    "             \n",
    "\n",
    "\n",
    "\n"
   ]
  },
  {
   "cell_type": "code",
   "execution_count": 66,
   "metadata": {},
   "outputs": [],
   "source": [
    "bst = BinarySearchTree()\n"
   ]
  },
  {
   "cell_type": "code",
   "execution_count": 67,
   "metadata": {},
   "outputs": [
    {
     "name": "stdout",
     "output_type": "stream",
     "text": [
      "Empty Tree\n"
     ]
    }
   ],
   "source": [
    "\n",
    "# Perform pre-order traversal\n",
    "bst.pre_order()"
   ]
  },
  {
   "cell_type": "code",
   "execution_count": 68,
   "metadata": {},
   "outputs": [],
   "source": [
    "bst.insertion(20)\n",
    "bst.insertion(15)\n",
    "bst.insertion(25)\n",
    "bst.insertion(30)\n",
    "bst.insertion(10)\n",
    "bst.insertion(5)\n",
    "bst.insertion(35)\n"
   ]
  },
  {
   "cell_type": "code",
   "execution_count": 69,
   "metadata": {},
   "outputs": [
    {
     "name": "stdout",
     "output_type": "stream",
     "text": [
      "20\n",
      "15\n",
      "10\n",
      "5\n",
      "25\n",
      "30\n",
      "35\n"
     ]
    }
   ],
   "source": [
    "bst.pre_order()"
   ]
  },
  {
   "cell_type": "code",
   "execution_count": 70,
   "metadata": {},
   "outputs": [
    {
     "data": {
      "text/plain": [
       "<__main__.Node at 0x7fa2241c2680>"
      ]
     },
     "execution_count": 70,
     "metadata": {},
     "output_type": "execute_result"
    }
   ],
   "source": [
    "bst.search(15)"
   ]
  },
  {
   "cell_type": "code",
   "execution_count": 71,
   "metadata": {},
   "outputs": [
    {
     "data": {
      "text/plain": [
       "<__main__.Node at 0x7fa2241c13c0>"
      ]
     },
     "execution_count": 71,
     "metadata": {},
     "output_type": "execute_result"
    }
   ],
   "source": [
    "bst.getParent(5)"
   ]
  },
  {
   "cell_type": "code",
   "execution_count": 72,
   "metadata": {},
   "outputs": [
    {
     "data": {
      "text/plain": [
       "<__main__.Node at 0x7fa2241c1de0>"
      ]
     },
     "execution_count": 72,
     "metadata": {},
     "output_type": "execute_result"
    }
   ],
   "source": [
    "bst.delete(5)"
   ]
  },
  {
   "cell_type": "code",
   "execution_count": 73,
   "metadata": {},
   "outputs": [
    {
     "name": "stdout",
     "output_type": "stream",
     "text": [
      "20\n",
      "15\n",
      "10\n",
      "25\n",
      "30\n",
      "35\n"
     ]
    }
   ],
   "source": [
    "bst.pre_order()"
   ]
  },
  {
   "cell_type": "code",
   "execution_count": null,
   "metadata": {},
   "outputs": [],
   "source": []
  }
 ],
 "metadata": {
  "kernelspec": {
   "display_name": "Python 3 (ipykernel)",
   "language": "python",
   "name": "python3"
  },
  "language_info": {
   "codemirror_mode": {
    "name": "ipython",
    "version": 3
   },
   "file_extension": ".py",
   "mimetype": "text/x-python",
   "name": "python",
   "nbconvert_exporter": "python",
   "pygments_lexer": "ipython3",
   "version": "3.10.6"
  }
 },
 "nbformat": 4,
 "nbformat_minor": 2
}
