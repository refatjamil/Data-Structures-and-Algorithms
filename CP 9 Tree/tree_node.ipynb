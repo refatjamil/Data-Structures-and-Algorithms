{
 "cells": [
  {
   "cell_type": "code",
   "execution_count": 34,
   "metadata": {},
   "outputs": [],
   "source": [
    "class Node:\n",
    "    def __init__(self, data):\n",
    "        self.left = None\n",
    "        self.data = data\n",
    "        self.right = None\n",
    "\n",
    "\n",
    "def pre_order( node):\n",
    "\n",
    "    print(node.data)\n",
    "\n",
    "    if node.left:\n",
    "        pre_order(node.left)\n",
    "    if node.right:\n",
    "        pre_order(node.right)\n",
    "\n",
    "def post_oder( node):\n",
    "\n",
    "    if node.left:\n",
    "        post_oder(node.left)\n",
    "    if node.right:\n",
    "        post_oder(node.right) \n",
    "\n",
    "    print(node.data)\n",
    "\n",
    "def in_oder( node):\n",
    "\n",
    "    if node.left:\n",
    "        in_oder(node.left)\n",
    "    print(node.data)    \n",
    "    if node.right:\n",
    "        in_oder(node.right) \n",
    "\n"
   ]
  },
  {
   "cell_type": "code",
   "execution_count": 35,
   "metadata": {},
   "outputs": [],
   "source": [
    "n2 = Node(2)\n",
    "n7 = Node(7)\n",
    "n9 = Node(9)\n",
    "\n",
    "n2.left = n7\n",
    "n2.right = n9\n",
    "\n",
    "n1 = Node(1)\n",
    "n6 = Node(6)\n",
    "\n",
    "n7.left = n1\n",
    "n7.right = n6\n",
    "\n",
    "n5 = Node(5)\n",
    "n10 = Node(10)\n",
    "\n",
    "n6.left = n5\n",
    "n6.right = n10\n",
    "\n",
    "\n",
    "n8 = Node(8)\n",
    "n9.right = n8\n",
    "\n",
    "n3 = Node(3)\n",
    "n4 = Node(4)\n",
    "n8.left = n3\n",
    "n8.right = n4"
   ]
  },
  {
   "attachments": {},
   "cell_type": "markdown",
   "metadata": {},
   "source": [
    "        _ 2 _\n",
    "       /      \\\n",
    "      7         9\n",
    "     /  \\        \\\n",
    "    1    6         8\n",
    "        / \\       /  \\\n",
    "       5   10    3    4"
   ]
  },
  {
   "cell_type": "code",
   "execution_count": 36,
   "metadata": {},
   "outputs": [
    {
     "name": "stdout",
     "output_type": "stream",
     "text": [
      "2\n",
      "7\n",
      "1\n",
      "6\n",
      "5\n",
      "10\n",
      "9\n",
      "8\n",
      "3\n",
      "4\n"
     ]
    }
   ],
   "source": [
    "pre_order(n2)"
   ]
  },
  {
   "attachments": {},
   "cell_type": "markdown",
   "metadata": {},
   "source": [
    "        _ 2 _\n",
    "       /      \\\n",
    "      7         9\n",
    "     /  \\        \\\n",
    "    1    6         8\n",
    "        / \\       /  \\\n",
    "       5   10    3    4"
   ]
  },
  {
   "cell_type": "code",
   "execution_count": 37,
   "metadata": {},
   "outputs": [
    {
     "name": "stdout",
     "output_type": "stream",
     "text": [
      "1\n",
      "7\n",
      "5\n",
      "6\n",
      "10\n",
      "2\n",
      "9\n",
      "3\n",
      "8\n",
      "4\n"
     ]
    }
   ],
   "source": [
    "in_oder(n2)"
   ]
  },
  {
   "attachments": {},
   "cell_type": "markdown",
   "metadata": {},
   "source": [
    "        _ 2 _\n",
    "       /      \\\n",
    "      7         9\n",
    "     /  \\        \\\n",
    "    1    6         8\n",
    "        / \\       /  \\\n",
    "       5   10    3    4"
   ]
  },
  {
   "cell_type": "code",
   "execution_count": 38,
   "metadata": {},
   "outputs": [
    {
     "name": "stdout",
     "output_type": "stream",
     "text": [
      "1\n",
      "5\n",
      "10\n",
      "6\n",
      "7\n",
      "3\n",
      "4\n",
      "8\n",
      "9\n",
      "2\n"
     ]
    }
   ],
   "source": [
    "post_oder(n2)"
   ]
  },
  {
   "cell_type": "code",
   "execution_count": null,
   "metadata": {},
   "outputs": [],
   "source": []
  }
 ],
 "metadata": {
  "kernelspec": {
   "display_name": "Python 3",
   "language": "python",
   "name": "python3"
  },
  "language_info": {
   "codemirror_mode": {
    "name": "ipython",
    "version": 3
   },
   "file_extension": ".py",
   "mimetype": "text/x-python",
   "name": "python",
   "nbconvert_exporter": "python",
   "pygments_lexer": "ipython3",
   "version": "3.10.6"
  },
  "orig_nbformat": 4
 },
 "nbformat": 4,
 "nbformat_minor": 2
}
