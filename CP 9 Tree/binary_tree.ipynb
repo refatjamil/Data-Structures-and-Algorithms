{
 "cells": [
  {
   "cell_type": "code",
   "execution_count": 1,
   "metadata": {},
   "outputs": [],
   "source": [
    "class Node:\n",
    "    def __init__(self, data):\n",
    "        self.data = data\n",
    "        self.left = None\n",
    "        self.right = None\n",
    "\n",
    "    def __repr__(self):\n",
    "        return repr(self.data)    \n",
    "\n",
    "    def add_left(self, node):\n",
    "        self.left = node\n",
    "\n",
    "    def add_right(self, node):\n",
    "        self.right = node"
   ]
  },
  {
   "cell_type": "code",
   "execution_count": 2,
   "metadata": {},
   "outputs": [],
   "source": [
    "def create_tree():\n",
    "    n2 = Node(2)\n",
    "    n7 = Node(7)\n",
    "    n9 = Node(9)\n",
    "\n",
    "    n2.add_left(n7)\n",
    "    n2.add_right(n9)\n",
    "\n",
    "    n1 = Node(1)\n",
    "    n6 = Node(6)\n",
    "\n",
    "    n7.add_left(n1)\n",
    "    n7.add_right(n6)\n",
    "\n",
    "    n5 = Node(5)\n",
    "    n10 = Node(10)\n",
    "\n",
    "    n6.add_left(n5)\n",
    "    n6.add_right(n10)\n",
    "\n",
    "\n",
    "    n8 = Node(8)\n",
    "    n9.add_right(n8)\n",
    "\n",
    "    n3 = Node(3)\n",
    "    n4 = Node(4)\n",
    "    n8.add_left(n3)\n",
    "    n8.add_right(n4)\n",
    "    \n",
    "    return n2\n",
    "\n",
    "\n",
    "def pre_order(node):\n",
    "    print(node)\n",
    "\n",
    "    if node.left:\n",
    "        pre_order(node.left)\n",
    "    if node.right:\n",
    "        pre_order(node.right)\n",
    "\n",
    "\n",
    "def post_order(node):\n",
    "\n",
    "    if node.left:\n",
    "        post_order(node.left)\n",
    "    if node.right:\n",
    "        post_order(node.right)\n",
    "\n",
    "    print(node)        \n",
    "\n",
    "\n",
    "def in_order(node):\n",
    "\n",
    "    if node.left:\n",
    "        post_order(node.left)\n",
    "\n",
    "    print(node)\n",
    "\n",
    "    if node.right:\n",
    "        post_order(node.right)\n",
    "\n",
    "    \n"
   ]
  },
  {
   "cell_type": "code",
   "execution_count": 5,
   "metadata": {},
   "outputs": [
    {
     "data": {
      "text/plain": [
       "2"
      ]
     },
     "execution_count": 5,
     "metadata": {},
     "output_type": "execute_result"
    }
   ],
   "source": [
    "root = create_tree()\n",
    "root"
   ]
  },
  {
   "cell_type": "code",
   "execution_count": 4,
   "metadata": {},
   "outputs": [
    {
     "name": "stdout",
     "output_type": "stream",
     "text": [
      "2\n",
      "7\n",
      "1\n",
      "6\n",
      "5\n",
      "10\n",
      "9\n",
      "8\n",
      "3\n",
      "4\n"
     ]
    }
   ],
   "source": [
    "pre_order(root)"
   ]
  },
  {
   "cell_type": "code",
   "execution_count": 5,
   "metadata": {},
   "outputs": [
    {
     "name": "stdout",
     "output_type": "stream",
     "text": [
      "1\n",
      "5\n",
      "10\n",
      "6\n",
      "7\n",
      "3\n",
      "4\n",
      "8\n",
      "9\n",
      "2\n"
     ]
    }
   ],
   "source": [
    "post_order(root)"
   ]
  },
  {
   "cell_type": "code",
   "execution_count": 6,
   "metadata": {},
   "outputs": [
    {
     "name": "stdout",
     "output_type": "stream",
     "text": [
      "1\n",
      "5\n",
      "10\n",
      "6\n",
      "7\n",
      "2\n",
      "3\n",
      "4\n",
      "8\n",
      "9\n"
     ]
    }
   ],
   "source": [
    "in_order(root)"
   ]
  },
  {
   "attachments": {},
   "cell_type": "markdown",
   "metadata": {},
   "source": [
    "#### Tree with Parent node"
   ]
  },
  {
   "cell_type": "code",
   "execution_count": 7,
   "metadata": {},
   "outputs": [],
   "source": [
    "class TreeNode:\n",
    "    def __init__(self, data):\n",
    "        self.data = data\n",
    "        self.parent = None\n",
    "        self.left = None\n",
    "        self.right = None\n",
    "\n",
    "    def __repr__(self):\n",
    "        return repr(self.data)    \n",
    "\n",
    "    def add_left(self, node):\n",
    "        self.left = node\n",
    "        if node is not None:\n",
    "            node.parent = self\n",
    "\n",
    "    def add_right(self, node):\n",
    "        self.right = node    \n",
    "        if node is not None:\n",
    "            node.parent = self"
   ]
  },
  {
   "cell_type": "code",
   "execution_count": 8,
   "metadata": {},
   "outputs": [],
   "source": [
    "n2 = TreeNode(10)\n",
    "n7 = TreeNode(7)\n",
    "n2.add_left(n7)"
   ]
  },
  {
   "cell_type": "code",
   "execution_count": 9,
   "metadata": {},
   "outputs": [
    {
     "data": {
      "text/plain": [
       "10"
      ]
     },
     "execution_count": 9,
     "metadata": {},
     "output_type": "execute_result"
    }
   ],
   "source": [
    "n7.parent"
   ]
  },
  {
   "cell_type": "code",
   "execution_count": null,
   "metadata": {},
   "outputs": [],
   "source": []
  }
 ],
 "metadata": {
  "kernelspec": {
   "display_name": "Python 3",
   "language": "python",
   "name": "python3"
  },
  "language_info": {
   "codemirror_mode": {
    "name": "ipython",
    "version": 3
   },
   "file_extension": ".py",
   "mimetype": "text/x-python",
   "name": "python",
   "nbconvert_exporter": "python",
   "pygments_lexer": "ipython3",
   "version": "3.10.6"
  },
  "orig_nbformat": 4
 },
 "nbformat": 4,
 "nbformat_minor": 2
}
