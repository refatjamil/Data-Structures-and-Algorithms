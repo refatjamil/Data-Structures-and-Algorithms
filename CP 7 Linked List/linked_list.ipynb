{
 "cells": [
  {
   "cell_type": "code",
   "execution_count": 4,
   "id": "72eed7da",
   "metadata": {},
   "outputs": [
    {
     "name": "stdout",
     "output_type": "stream",
     "text": [
      "5 10 15 20 \n",
      "40 5 10 15 20 \n",
      "40 5 10 15 20 50 \n",
      "40 5 100 10 15 20 50 "
     ]
    }
   ],
   "source": [
    "class Node:\n",
    "    def __init__(self, data):\n",
    "        self.data = data\n",
    "        self.next = None\n",
    "\n",
    "class Singly_LinkedList:\n",
    "    def __init__(self):\n",
    "        self.head = None\n",
    "    \n",
    "    def traversal(self):\n",
    "        if self.head is None:\n",
    "            print(\"Empty LinkedList\")\n",
    "        else:\n",
    "            a = self.head\n",
    "            while a is not None:\n",
    "                print(a.data, end=' ')\n",
    "                a = a.next\n",
    "                \n",
    "    def insert_at_beginning(self, data):\n",
    "        nb = Node(data)\n",
    "        nb.next = self.head\n",
    "        self.head = nb\n",
    "        \n",
    "    def insert_at_end(self, data):\n",
    "        ne = Node(data)\n",
    "        a = self.head\n",
    "        while a.next is not None:\n",
    "            a = a.next\n",
    "        a.next = ne    \n",
    "            \n",
    "    def insert_at_position(self, position, data):\n",
    "        np = Node(data)\n",
    "        a = self.head\n",
    "        for i in range(1, position-1):\n",
    "            a = a.next\n",
    "        np.next = a.next     \n",
    "        a.next = np\n",
    "            \n",
    "        \n",
    "        \n",
    "n1 = Node(5)\n",
    "sll = Singly_LinkedList()\n",
    "sll.head = n1\n",
    "\n",
    "n2 = Node(10)\n",
    "n1.next = n2\n",
    "\n",
    "n3 = Node(15)\n",
    "n2.next = n3\n",
    "\n",
    "n4 = Node(20)\n",
    "n3.next = n4\n",
    "\n",
    "sll.traversal()\n",
    "\n",
    "sll.insert_at_beginning(40)\n",
    "print()\n",
    "sll.traversal()\n",
    "\n",
    "sll.insert_at_end(50)\n",
    "print()\n",
    "sll.traversal()\n",
    "\n",
    "\n",
    "sll.insert_at_position(3, 100)\n",
    "print()\n",
    "sll.traversal()"
   ]
  },
  {
   "cell_type": "code",
   "execution_count": null,
   "id": "e5c51e7a",
   "metadata": {},
   "outputs": [],
   "source": []
  }
 ],
 "metadata": {
  "kernelspec": {
   "display_name": "Python 3 (ipykernel)",
   "language": "python",
   "name": "python3"
  },
  "language_info": {
   "codemirror_mode": {
    "name": "ipython",
    "version": 3
   },
   "file_extension": ".py",
   "mimetype": "text/x-python",
   "name": "python",
   "nbconvert_exporter": "python",
   "pygments_lexer": "ipython3",
   "version": "3.10.9"
  }
 },
 "nbformat": 4,
 "nbformat_minor": 5
}
